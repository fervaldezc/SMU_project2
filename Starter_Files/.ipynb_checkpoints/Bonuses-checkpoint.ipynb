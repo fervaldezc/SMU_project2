{
 "cells": [
  {
   "cell_type": "code",
   "execution_count": 1,
   "id": "c7e2a223",
   "metadata": {},
   "outputs": [],
   "source": [
    "import sqlalchemy\n",
    "from sqlalchemy import create_engine, inspect, text\n",
    "import pandas as pd\n",
    "import numpy as npo\n",
    "import seaborn as sns\n",
    "import matplotlib.pyplot as plt"
   ]
  },
  {
   "cell_type": "code",
   "execution_count": 2,
   "id": "a4cfdac3",
   "metadata": {},
   "outputs": [],
   "source": [
    "SQL_USERNAME = \"postgres\"\n",
    "SQL_PASSWORD = \"postgres\"\n",
    "SQL_IP = \"localhost\"\n",
    "PORT = \"5432\"\n",
    "DATABASE = \"crowdfunding_SMU\""
   ]
  },
  {
   "cell_type": "code",
   "execution_count": 3,
   "id": "f435956a",
   "metadata": {},
   "outputs": [
    {
     "ename": "NameError",
     "evalue": "name 'DATABASE' is not defined",
     "output_type": "error",
     "traceback": [
      "\u001b[1;31m---------------------------------------------------------------------------\u001b[0m",
      "\u001b[1;31mNameError\u001b[0m                                 Traceback (most recent call last)",
      "Cell \u001b[1;32mIn[3], line 2\u001b[0m\n\u001b[0;32m      1\u001b[0m \u001b[38;5;66;03m# Create engine\u001b[39;00m\n\u001b[1;32m----> 2\u001b[0m connection_string \u001b[38;5;241m=\u001b[39m \u001b[38;5;124mf\u001b[39m\u001b[38;5;124m\"\u001b[39m\u001b[38;5;124mpostgresql+psycopg2://\u001b[39m\u001b[38;5;132;01m{\u001b[39;00mSQL_USERNAME\u001b[38;5;132;01m}\u001b[39;00m\u001b[38;5;124m:\u001b[39m\u001b[38;5;132;01m{\u001b[39;00mSQL_PASSWORD\u001b[38;5;132;01m}\u001b[39;00m\u001b[38;5;124m@\u001b[39m\u001b[38;5;132;01m{\u001b[39;00mSQL_IP\u001b[38;5;132;01m}\u001b[39;00m\u001b[38;5;124m:\u001b[39m\u001b[38;5;132;01m{\u001b[39;00mPORT\u001b[38;5;132;01m}\u001b[39;00m\u001b[38;5;124m/\u001b[39m\u001b[38;5;132;01m{\u001b[39;00mDATABASE\u001b[38;5;132;01m}\u001b[39;00m\u001b[38;5;124m\"\u001b[39m\n\u001b[0;32m      4\u001b[0m engine \u001b[38;5;241m=\u001b[39m create_engine(connection_string)\n",
      "\u001b[1;31mNameError\u001b[0m: name 'DATABASE' is not defined"
     ]
    }
   ],
   "source": [
    "# Create engine\n",
    "connection_string = f\"postgresql+psycopg2://{SQL_USERNAME}:{SQL_PASSWORD}@{SQL_IP}:{PORT}/{DATABASE}\"\n",
    "\n",
    "engine = create_engine(connection_string)"
   ]
  },
  {
   "cell_type": "code",
   "execution_count": null,
   "id": "f5444d91",
   "metadata": {},
   "outputs": [],
   "source": [
    "# explore and understand the data\n",
    "\n",
    "# create the inspector and connect it to the engine\n",
    "inspector = inspect(engine)\n",
    "\n",
    "# Collect the names of tables within the database\n",
    "tables = inspector.get_table_names()\n",
    "\n",
    "# Using the inspector to print the column names within each table and its types\n",
    "for table in tables:\n",
    "    print (table)\n",
    "    columns = inspector.get_columns(table)\n",
    "    for column in columns:\n",
    "        print(column[\"name\"], column[\"type\"])\n",
    "        \n",
    "    print()"
   ]
  },
  {
   "cell_type": "code",
   "execution_count": null,
   "id": "9f4c2c32",
   "metadata": {},
   "outputs": [],
   "source": [
    "# LOAD DATA CATEGORY\n",
    "\n",
    "filepath = \"Resources/category.csv\"\n",
    "df = pd.read_csv(filepath)\n",
    "df.columns = [x.lower() for x in df.columns]\n",
    "\n",
    "df.head()\n",
    "\n",
    "df.to_sql(\"category\", schema = \"public\", con = engine, if_exists=\"append\", method=\"multi\", index=False)"
   ]
  },
  {
   "cell_type": "code",
   "execution_count": null,
   "id": "8b4ce329",
   "metadata": {},
   "outputs": [],
   "source": [
    "# LOAD DATA SUBCATEGORY\n",
    "\n",
    "filepath = \"Resources/subcategory.csv\"\n",
    "df = pd.read_csv(filepath)\n",
    "df.columns = [x.lower() for x in df.columns]\n",
    "\n",
    "df.head()\n",
    "\n",
    "df.to_sql(\"subcategory\", schema = \"public\", con = engine, if_exists=\"append\", method=\"multi\", index=False)"
   ]
  },
  {
   "cell_type": "code",
   "execution_count": null,
   "id": "6e79f9d4",
   "metadata": {},
   "outputs": [],
   "source": [
    "# LOAD DATA CONTACTS\n",
    "\n",
    "filepath = \"Resources/contacts.csv\"\n",
    "df = pd.read_csv(filepath)\n",
    "df.columns = [x.lower() for x in df.columns]\n",
    "\n",
    "df.head()\n",
    "\n",
    "df.to_sql(\"contacts\", schema = \"public\", con = engine, if_exists=\"append\", method=\"multi\", index=False)"
   ]
  },
  {
   "cell_type": "code",
   "execution_count": null,
   "id": "cbed1fc3",
   "metadata": {},
   "outputs": [],
   "source": [
    "# LOAD DATA CAMPAIGN\n",
    "\n",
    "filepath = \"Resources/campaign.csv\"\n",
    "df = pd.read_csv(filepath)\n",
    "df.columns = [x.lower() for x in df.columns]\n",
    "\n",
    "df.head()\n",
    "\n",
    "df.to_sql(\"campaign\", schema = \"public\", con = engine, if_exists=\"append\", method=\"multi\", index=False)"
   ]
  },
  {
   "cell_type": "code",
   "execution_count": null,
   "id": "df0ea49f",
   "metadata": {},
   "outputs": [],
   "source": []
  },
  {
   "cell_type": "code",
   "execution_count": null,
   "id": "94296ced",
   "metadata": {},
   "outputs": [],
   "source": [
    "#second bonus:"
   ]
  },
  {
   "cell_type": "code",
   "execution_count": 4,
   "id": "5a22da43",
   "metadata": {},
   "outputs": [],
   "source": [
    "query = \"\"\"\n",
    "        SELECT\n",
    "            *\n",
    "        FROM\n",
    "            age;\n",
    "        \"\"\"\n",
    "\n",
    "df = pd.read_sql(text(query), con=engine)\n",
    "df.head()"
   ]
  },
  {
   "cell_type": "code",
   "execution_count": null,
   "id": "6c331e2b",
   "metadata": {},
   "outputs": [],
   "source": [
    "plt.figure(figsize=(10,6))\n",
    "plt.barh(df.age_description, df.age_code, color = \"firebrick\")\n",
    "plt.title(\"Bird Ages\", fontweight=\"bold\")\n",
    "plt.xlabel(\"Age Code\")\n",
    "\n",
    "plt.grid(axis = 'x', color=\"lightgrey\", linestyle = \"--\", alpha=0.2)\n",
    "\n",
    "plt.show()"
   ]
  }
 ],
 "metadata": {
  "kernelspec": {
   "display_name": "Python 3 (ipykernel)",
   "language": "python",
   "name": "python3"
  },
  "language_info": {
   "codemirror_mode": {
    "name": "ipython",
    "version": 3
   },
   "file_extension": ".py",
   "mimetype": "text/x-python",
   "name": "python",
   "nbconvert_exporter": "python",
   "pygments_lexer": "ipython3",
   "version": "3.10.13"
  }
 },
 "nbformat": 4,
 "nbformat_minor": 5
}
